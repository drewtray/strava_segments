{
 "cells": [
  {
   "cell_type": "code",
   "execution_count": 1,
   "id": "433aeab3-dba3-4db4-8735-2e52266bff5e",
   "metadata": {},
   "outputs": [
    {
     "name": "stderr",
     "output_type": "stream",
     "text": [
      "/opt/anaconda3/lib/python3.8/site-packages/geopandas/_compat.py:111: UserWarning: The Shapely GEOS version (3.9.1-CAPI-1.14.2) is incompatible with the GEOS version PyGEOS was compiled with (3.10.1-CAPI-1.16.0). Conversions between both will be slow.\n",
      "  warnings.warn(\n"
     ]
    }
   ],
   "source": [
    "import osmnx as ox\n",
    "from osmnx import geometries\n",
    "import pandas as pd\n",
    "import requests\n",
    "import ast\n",
    "from shapely.geometry import Polygon\n",
    "\n",
    "pd.set_option('display.max_rows', None)"
   ]
  },
  {
   "cell_type": "code",
   "execution_count": 2,
   "id": "886280ae-7033-4111-92e8-6e7b01e5baff",
   "metadata": {},
   "outputs": [],
   "source": [
    "key_list = [\n",
    "    'building',\n",
    "    'highway',\n",
    "    'natural',\n",
    "    'surface',\n",
    "    'landuse',\n",
    "    'power',\n",
    "    'waterway',\n",
    "    'building:levels',\n",
    "    'amenity',\n",
    "    'service',\n",
    "    'oneway',\n",
    "    'barrier',\n",
    "    'access',\n",
    "    'lanes',\n",
    "    'wall',\n",
    "    'tracktype',\n",
    "    'ele',\n",
    "    'place',\n",
    "    'leisure',\n",
    "    'lit',\n",
    "    'bicycle',\n",
    "    'railway',\n",
    "    'foot',\n",
    "    'bridge',\n",
    "    'crossing',\n",
    "    'shop',\n",
    "    'man_made',\n",
    "    'footway',\n",
    "    'intermittent',\n",
    "    'public_transport',\n",
    "    'tunnel',\n",
    "    'water',\n",
    "    'leaf_cycle',\n",
    "    'bus',\n",
    "    'tourism',\n",
    "    'smoothness',\n",
    "    'sidewalk',\n",
    "    'sport',\n",
    "    'building:flats',\n",
    "    'wheelchair',\n",
    "    'parking'\n",
    "]"
   ]
  },
  {
   "cell_type": "code",
   "execution_count": 3,
   "id": "e64396ab-efe3-4056-b41e-f081cb7c4598",
   "metadata": {},
   "outputs": [
    {
     "data": {
      "text/plain": [
       "41"
      ]
     },
     "execution_count": 3,
     "metadata": {},
     "output_type": "execute_result"
    }
   ],
   "source": [
    "len(key_list)"
   ]
  },
  {
   "cell_type": "code",
   "execution_count": 4,
   "id": "4e91a35f-bb0a-4e10-9a79-c184f205097a",
   "metadata": {},
   "outputs": [],
   "source": [
    "frame_list = []\n",
    "\n",
    "for k in key_list:\n",
    "    url_keys = f'https://taginfo.openstreetmap.org/api/4/key/values?key={k}&page=1&rp=100&sortname=count_ways&sortorder=desc'\n",
    "    r_keys = requests.get(url_keys)\n",
    "    r_dict_keys = r_keys.json()\n",
    "    r_dict_df = pd.DataFrame(r_dict_keys['data'])\n",
    "    r_dict_df.insert(0, 'key', [k]*len(r_dict_df))\n",
    "    frame_list.append(r_dict_df)"
   ]
  },
  {
   "cell_type": "code",
   "execution_count": 5,
   "id": "98d503d8-ac72-4a72-964a-3c71427c218b",
   "metadata": {},
   "outputs": [],
   "source": [
    "desc_df = pd.concat(frame_list)\n",
    "desc_df = desc_df.drop('fraction', axis=1)\n",
    "desc_df = desc_df.sort_values('count', ascending=False)"
   ]
  },
  {
   "cell_type": "code",
   "execution_count": 6,
   "id": "a1aba52b-3f8d-47ef-9c47-76a800cbf616",
   "metadata": {},
   "outputs": [],
   "source": [
    "num_exclude = ['building:levels', 'lanes', 'building:flats']"
   ]
  },
  {
   "cell_type": "code",
   "execution_count": 7,
   "id": "0374e587-d7d4-49ac-97e4-9a3a55d12089",
   "metadata": {},
   "outputs": [],
   "source": [
    "desc_df = desc_df[~desc_df['key'].isin(num_exclude)]\n",
    "\n",
    "cutoff = 50000\n",
    "\n",
    "desc_df = desc_df[desc_df['count'] >= cutoff]\n",
    "desc_df = desc_df.reset_index(drop=True)"
   ]
  },
  {
   "cell_type": "code",
   "execution_count": 13,
   "id": "a192c0ee-c8eb-45db-a09f-6aa44cb92df5",
   "metadata": {},
   "outputs": [],
   "source": [
    "# desc_df[desc_df['key'].isin(['shop', 'place', 'amenity'])]"
   ]
  },
  {
   "cell_type": "code",
   "execution_count": 17,
   "id": "cec313db-a4c2-40e7-b23d-4876b8c7aa51",
   "metadata": {},
   "outputs": [],
   "source": [
    "# desc_df"
   ]
  },
  {
   "cell_type": "code",
   "execution_count": 15,
   "id": "320a9393-3f72-4436-8968-cedee3d4132d",
   "metadata": {},
   "outputs": [],
   "source": [
    "desc_df.to_csv('osm_tags.csv')"
   ]
  },
  {
   "cell_type": "code",
   "execution_count": 9,
   "id": "9b02a982-199f-4526-a5ef-1415d3d5c78d",
   "metadata": {},
   "outputs": [],
   "source": [
    "# field = desc_df['key'] + ': ' + desc_df['value']\n",
    "# desc_df.insert(0, 'Field', field)\n",
    "# desc_df.drop(['key', 'value'], axis=1)"
   ]
  }
 ],
 "metadata": {
  "kernelspec": {
   "display_name": "Python 3 (ipykernel)",
   "language": "python",
   "name": "python3"
  },
  "language_info": {
   "codemirror_mode": {
    "name": "ipython",
    "version": 3
   },
   "file_extension": ".py",
   "mimetype": "text/x-python",
   "name": "python",
   "nbconvert_exporter": "python",
   "pygments_lexer": "ipython3",
   "version": "3.8.8"
  }
 },
 "nbformat": 4,
 "nbformat_minor": 5
}
