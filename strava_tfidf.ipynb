{
 "cells": [
  {
   "cell_type": "code",
   "execution_count": 1,
   "id": "dff2af92-1a72-4167-b759-a40965ceddfa",
   "metadata": {},
   "outputs": [],
   "source": [
    "import numpy as np\n",
    "import pandas as pd\n",
    "from pandas_profiling import ProfileReport\n",
    "from sklearn.decomposition import PCA, SparsePCA\n",
    "from sklearn.decomposition import TruncatedSVD\n",
    "from sklearn.manifold import TSNE\n",
    "from sklearn import preprocessing\n",
    "import matplotlib.pyplot as plt\n",
    "from mpl_toolkits import mplot3d\n",
    "import plotly.express as px\n",
    "from sklearn.feature_extraction.text import TfidfVectorizer\n",
    "\n",
    "pd.set_option('display.max_rows', None)"
   ]
  },
  {
   "cell_type": "code",
   "execution_count": 2,
   "id": "53ad85dc-df2d-495a-bd77-0971e82b51ac",
   "metadata": {},
   "outputs": [],
   "source": [
    "df = pd.read_csv('strava_dmatrix.csv', index_col=0)"
   ]
  },
  {
   "cell_type": "code",
   "execution_count": 3,
   "id": "2e30f8ac-3994-431a-bfa2-8c82f9d019a9",
   "metadata": {},
   "outputs": [
    {
     "data": {
      "text/html": [
       "<div>\n",
       "<style scoped>\n",
       "    .dataframe tbody tr th:only-of-type {\n",
       "        vertical-align: middle;\n",
       "    }\n",
       "\n",
       "    .dataframe tbody tr th {\n",
       "        vertical-align: top;\n",
       "    }\n",
       "\n",
       "    .dataframe thead th {\n",
       "        text-align: right;\n",
       "    }\n",
       "</style>\n",
       "<table border=\"1\" class=\"dataframe\">\n",
       "  <thead>\n",
       "    <tr style=\"text-align: right;\">\n",
       "      <th></th>\n",
       "      <th>metro</th>\n",
       "      <th>strava id</th>\n",
       "      <th>Decoded Polyline</th>\n",
       "      <th>Buffered Polyline</th>\n",
       "      <th>building - industrial</th>\n",
       "      <th>highway - residential</th>\n",
       "      <th>highway - service</th>\n",
       "      <th>highway - cycleway</th>\n",
       "      <th>surface - asphalt</th>\n",
       "      <th>power - substation</th>\n",
       "      <th>...</th>\n",
       "      <th>bridge - movable</th>\n",
       "      <th>surface - pebblestone</th>\n",
       "      <th>crossing - pedestrian_signals</th>\n",
       "      <th>place - plot</th>\n",
       "      <th>sport - skiing</th>\n",
       "      <th>sidewalk - yes</th>\n",
       "      <th>power - office</th>\n",
       "      <th>surface - sand</th>\n",
       "      <th>parking - street_side</th>\n",
       "      <th>sport - ice_hockey;ice_skating</th>\n",
       "    </tr>\n",
       "  </thead>\n",
       "  <tbody>\n",
       "    <tr>\n",
       "      <th>0</th>\n",
       "      <td>Philadelphia</td>\n",
       "      <td>4709431.0</td>\n",
       "      <td>[(39.93771, -75.16854), (39.9367, -75.16874), ...</td>\n",
       "      <td>POLYGON ((-75.16864190475492 39.936680575199, ...</td>\n",
       "      <td>1.0</td>\n",
       "      <td>5.0</td>\n",
       "      <td>3.0</td>\n",
       "      <td>1.0</td>\n",
       "      <td>1.0</td>\n",
       "      <td>1.0</td>\n",
       "      <td>...</td>\n",
       "      <td>0.0</td>\n",
       "      <td>0.0</td>\n",
       "      <td>0.0</td>\n",
       "      <td>0.0</td>\n",
       "      <td>0.0</td>\n",
       "      <td>0.0</td>\n",
       "      <td>0.0</td>\n",
       "      <td>0.0</td>\n",
       "      <td>0.0</td>\n",
       "      <td>0.0</td>\n",
       "    </tr>\n",
       "    <tr>\n",
       "      <th>1</th>\n",
       "      <td>Philadelphia</td>\n",
       "      <td>27581807.0</td>\n",
       "      <td>[(39.95798, -75.17566), (39.95889, -75.17549),...</td>\n",
       "      <td>POLYGON ((-75.17558857203231 39.95890690438281...</td>\n",
       "      <td>0.0</td>\n",
       "      <td>8.0</td>\n",
       "      <td>4.0</td>\n",
       "      <td>0.0</td>\n",
       "      <td>1.0</td>\n",
       "      <td>0.0</td>\n",
       "      <td>...</td>\n",
       "      <td>0.0</td>\n",
       "      <td>0.0</td>\n",
       "      <td>0.0</td>\n",
       "      <td>0.0</td>\n",
       "      <td>0.0</td>\n",
       "      <td>0.0</td>\n",
       "      <td>0.0</td>\n",
       "      <td>0.0</td>\n",
       "      <td>0.0</td>\n",
       "      <td>0.0</td>\n",
       "    </tr>\n",
       "    <tr>\n",
       "      <th>2</th>\n",
       "      <td>Philadelphia</td>\n",
       "      <td>17297769.0</td>\n",
       "      <td>[(39.99362, -75.21742), (39.99366, -75.2173), ...</td>\n",
       "      <td>POLYGON ((-75.2173316227766 39.9937548683298, ...</td>\n",
       "      <td>0.0</td>\n",
       "      <td>4.0</td>\n",
       "      <td>2.0</td>\n",
       "      <td>0.0</td>\n",
       "      <td>1.0</td>\n",
       "      <td>1.0</td>\n",
       "      <td>...</td>\n",
       "      <td>0.0</td>\n",
       "      <td>0.0</td>\n",
       "      <td>0.0</td>\n",
       "      <td>0.0</td>\n",
       "      <td>0.0</td>\n",
       "      <td>0.0</td>\n",
       "      <td>0.0</td>\n",
       "      <td>0.0</td>\n",
       "      <td>0.0</td>\n",
       "      <td>0.0</td>\n",
       "    </tr>\n",
       "    <tr>\n",
       "      <th>3</th>\n",
       "      <td>Philadelphia</td>\n",
       "      <td>16871702.0</td>\n",
       "      <td>[(39.94239, -75.19863), (39.94247, -75.19869),...</td>\n",
       "      <td>POLYGON ((-75.19876087633354 39.94239783511138...</td>\n",
       "      <td>0.0</td>\n",
       "      <td>0.0</td>\n",
       "      <td>5.0</td>\n",
       "      <td>0.0</td>\n",
       "      <td>21.0</td>\n",
       "      <td>0.0</td>\n",
       "      <td>...</td>\n",
       "      <td>0.0</td>\n",
       "      <td>0.0</td>\n",
       "      <td>0.0</td>\n",
       "      <td>0.0</td>\n",
       "      <td>0.0</td>\n",
       "      <td>0.0</td>\n",
       "      <td>0.0</td>\n",
       "      <td>0.0</td>\n",
       "      <td>0.0</td>\n",
       "      <td>0.0</td>\n",
       "    </tr>\n",
       "    <tr>\n",
       "      <th>4</th>\n",
       "      <td>Philadelphia</td>\n",
       "      <td>9259454.0</td>\n",
       "      <td>[(39.99507, -75.21355), (39.99499, -75.21387),...</td>\n",
       "      <td>POLYGON ((-75.21492836120809 39.99485335178647...</td>\n",
       "      <td>0.0</td>\n",
       "      <td>1.0</td>\n",
       "      <td>3.0</td>\n",
       "      <td>0.0</td>\n",
       "      <td>4.0</td>\n",
       "      <td>0.0</td>\n",
       "      <td>...</td>\n",
       "      <td>0.0</td>\n",
       "      <td>0.0</td>\n",
       "      <td>0.0</td>\n",
       "      <td>0.0</td>\n",
       "      <td>0.0</td>\n",
       "      <td>0.0</td>\n",
       "      <td>0.0</td>\n",
       "      <td>0.0</td>\n",
       "      <td>0.0</td>\n",
       "      <td>0.0</td>\n",
       "    </tr>\n",
       "  </tbody>\n",
       "</table>\n",
       "<p>5 rows × 403 columns</p>\n",
       "</div>"
      ],
      "text/plain": [
       "          metro   strava id  \\\n",
       "0  Philadelphia   4709431.0   \n",
       "1  Philadelphia  27581807.0   \n",
       "2  Philadelphia  17297769.0   \n",
       "3  Philadelphia  16871702.0   \n",
       "4  Philadelphia   9259454.0   \n",
       "\n",
       "                                    Decoded Polyline  \\\n",
       "0  [(39.93771, -75.16854), (39.9367, -75.16874), ...   \n",
       "1  [(39.95798, -75.17566), (39.95889, -75.17549),...   \n",
       "2  [(39.99362, -75.21742), (39.99366, -75.2173), ...   \n",
       "3  [(39.94239, -75.19863), (39.94247, -75.19869),...   \n",
       "4  [(39.99507, -75.21355), (39.99499, -75.21387),...   \n",
       "\n",
       "                                   Buffered Polyline  building - industrial  \\\n",
       "0  POLYGON ((-75.16864190475492 39.936680575199, ...                    1.0   \n",
       "1  POLYGON ((-75.17558857203231 39.95890690438281...                    0.0   \n",
       "2  POLYGON ((-75.2173316227766 39.9937548683298, ...                    0.0   \n",
       "3  POLYGON ((-75.19876087633354 39.94239783511138...                    0.0   \n",
       "4  POLYGON ((-75.21492836120809 39.99485335178647...                    0.0   \n",
       "\n",
       "   highway - residential  highway - service  highway - cycleway  \\\n",
       "0                    5.0                3.0                 1.0   \n",
       "1                    8.0                4.0                 0.0   \n",
       "2                    4.0                2.0                 0.0   \n",
       "3                    0.0                5.0                 0.0   \n",
       "4                    1.0                3.0                 0.0   \n",
       "\n",
       "   surface - asphalt  power - substation  ...  bridge - movable  \\\n",
       "0                1.0                 1.0  ...               0.0   \n",
       "1                1.0                 0.0  ...               0.0   \n",
       "2                1.0                 1.0  ...               0.0   \n",
       "3               21.0                 0.0  ...               0.0   \n",
       "4                4.0                 0.0  ...               0.0   \n",
       "\n",
       "   surface - pebblestone  crossing - pedestrian_signals  place - plot  \\\n",
       "0                    0.0                            0.0           0.0   \n",
       "1                    0.0                            0.0           0.0   \n",
       "2                    0.0                            0.0           0.0   \n",
       "3                    0.0                            0.0           0.0   \n",
       "4                    0.0                            0.0           0.0   \n",
       "\n",
       "   sport - skiing  sidewalk - yes  power - office  surface - sand  \\\n",
       "0             0.0             0.0             0.0             0.0   \n",
       "1             0.0             0.0             0.0             0.0   \n",
       "2             0.0             0.0             0.0             0.0   \n",
       "3             0.0             0.0             0.0             0.0   \n",
       "4             0.0             0.0             0.0             0.0   \n",
       "\n",
       "   parking - street_side  sport - ice_hockey;ice_skating  \n",
       "0                    0.0                             0.0  \n",
       "1                    0.0                             0.0  \n",
       "2                    0.0                             0.0  \n",
       "3                    0.0                             0.0  \n",
       "4                    0.0                             0.0  \n",
       "\n",
       "[5 rows x 403 columns]"
      ]
     },
     "execution_count": 3,
     "metadata": {},
     "output_type": "execute_result"
    }
   ],
   "source": [
    "df.head()"
   ]
  },
  {
   "cell_type": "code",
   "execution_count": 4,
   "id": "0e5ac0ec-fff7-4c8d-ab09-a780096a49c3",
   "metadata": {},
   "outputs": [
    {
     "data": {
      "text/plain": [
       "False"
      ]
     },
     "execution_count": 4,
     "metadata": {},
     "output_type": "execute_result"
    }
   ],
   "source": [
    "df.duplicated().any()"
   ]
  },
  {
   "cell_type": "code",
   "execution_count": 5,
   "id": "f946922f-3103-4d40-afbb-622625cc3fae",
   "metadata": {},
   "outputs": [
    {
     "data": {
      "text/html": [
       "<div>\n",
       "<style scoped>\n",
       "    .dataframe tbody tr th:only-of-type {\n",
       "        vertical-align: middle;\n",
       "    }\n",
       "\n",
       "    .dataframe tbody tr th {\n",
       "        vertical-align: top;\n",
       "    }\n",
       "\n",
       "    .dataframe thead th {\n",
       "        text-align: right;\n",
       "    }\n",
       "</style>\n",
       "<table border=\"1\" class=\"dataframe\">\n",
       "  <thead>\n",
       "    <tr style=\"text-align: right;\">\n",
       "      <th></th>\n",
       "      <th>building - industrial</th>\n",
       "      <th>highway - residential</th>\n",
       "      <th>highway - service</th>\n",
       "      <th>highway - cycleway</th>\n",
       "      <th>surface - asphalt</th>\n",
       "      <th>power - substation</th>\n",
       "      <th>access - private</th>\n",
       "      <th>landuse - industrial</th>\n",
       "      <th>landuse - brownfield</th>\n",
       "      <th>landuse - construction</th>\n",
       "      <th>...</th>\n",
       "      <th>bridge - movable</th>\n",
       "      <th>surface - pebblestone</th>\n",
       "      <th>crossing - pedestrian_signals</th>\n",
       "      <th>place - plot</th>\n",
       "      <th>sport - skiing</th>\n",
       "      <th>sidewalk - yes</th>\n",
       "      <th>power - office</th>\n",
       "      <th>surface - sand</th>\n",
       "      <th>parking - street_side</th>\n",
       "      <th>sport - ice_hockey;ice_skating</th>\n",
       "    </tr>\n",
       "  </thead>\n",
       "  <tbody>\n",
       "    <tr>\n",
       "      <th>0</th>\n",
       "      <td>1.0</td>\n",
       "      <td>5.0</td>\n",
       "      <td>3.0</td>\n",
       "      <td>1.0</td>\n",
       "      <td>1.0</td>\n",
       "      <td>1.0</td>\n",
       "      <td>2.0</td>\n",
       "      <td>3.0</td>\n",
       "      <td>2.0</td>\n",
       "      <td>1.0</td>\n",
       "      <td>...</td>\n",
       "      <td>0.0</td>\n",
       "      <td>0.0</td>\n",
       "      <td>0.0</td>\n",
       "      <td>0.0</td>\n",
       "      <td>0.0</td>\n",
       "      <td>0.0</td>\n",
       "      <td>0.0</td>\n",
       "      <td>0.0</td>\n",
       "      <td>0.0</td>\n",
       "      <td>0.0</td>\n",
       "    </tr>\n",
       "    <tr>\n",
       "      <th>1</th>\n",
       "      <td>0.0</td>\n",
       "      <td>8.0</td>\n",
       "      <td>4.0</td>\n",
       "      <td>0.0</td>\n",
       "      <td>1.0</td>\n",
       "      <td>0.0</td>\n",
       "      <td>0.0</td>\n",
       "      <td>0.0</td>\n",
       "      <td>0.0</td>\n",
       "      <td>0.0</td>\n",
       "      <td>...</td>\n",
       "      <td>0.0</td>\n",
       "      <td>0.0</td>\n",
       "      <td>0.0</td>\n",
       "      <td>0.0</td>\n",
       "      <td>0.0</td>\n",
       "      <td>0.0</td>\n",
       "      <td>0.0</td>\n",
       "      <td>0.0</td>\n",
       "      <td>0.0</td>\n",
       "      <td>0.0</td>\n",
       "    </tr>\n",
       "    <tr>\n",
       "      <th>2</th>\n",
       "      <td>0.0</td>\n",
       "      <td>4.0</td>\n",
       "      <td>2.0</td>\n",
       "      <td>0.0</td>\n",
       "      <td>1.0</td>\n",
       "      <td>1.0</td>\n",
       "      <td>1.0</td>\n",
       "      <td>0.0</td>\n",
       "      <td>0.0</td>\n",
       "      <td>0.0</td>\n",
       "      <td>...</td>\n",
       "      <td>0.0</td>\n",
       "      <td>0.0</td>\n",
       "      <td>0.0</td>\n",
       "      <td>0.0</td>\n",
       "      <td>0.0</td>\n",
       "      <td>0.0</td>\n",
       "      <td>0.0</td>\n",
       "      <td>0.0</td>\n",
       "      <td>0.0</td>\n",
       "      <td>0.0</td>\n",
       "    </tr>\n",
       "    <tr>\n",
       "      <th>3</th>\n",
       "      <td>0.0</td>\n",
       "      <td>0.0</td>\n",
       "      <td>5.0</td>\n",
       "      <td>0.0</td>\n",
       "      <td>21.0</td>\n",
       "      <td>0.0</td>\n",
       "      <td>1.0</td>\n",
       "      <td>0.0</td>\n",
       "      <td>0.0</td>\n",
       "      <td>0.0</td>\n",
       "      <td>...</td>\n",
       "      <td>0.0</td>\n",
       "      <td>0.0</td>\n",
       "      <td>0.0</td>\n",
       "      <td>0.0</td>\n",
       "      <td>0.0</td>\n",
       "      <td>0.0</td>\n",
       "      <td>0.0</td>\n",
       "      <td>0.0</td>\n",
       "      <td>0.0</td>\n",
       "      <td>0.0</td>\n",
       "    </tr>\n",
       "    <tr>\n",
       "      <th>4</th>\n",
       "      <td>0.0</td>\n",
       "      <td>1.0</td>\n",
       "      <td>3.0</td>\n",
       "      <td>0.0</td>\n",
       "      <td>4.0</td>\n",
       "      <td>0.0</td>\n",
       "      <td>0.0</td>\n",
       "      <td>0.0</td>\n",
       "      <td>0.0</td>\n",
       "      <td>0.0</td>\n",
       "      <td>...</td>\n",
       "      <td>0.0</td>\n",
       "      <td>0.0</td>\n",
       "      <td>0.0</td>\n",
       "      <td>0.0</td>\n",
       "      <td>0.0</td>\n",
       "      <td>0.0</td>\n",
       "      <td>0.0</td>\n",
       "      <td>0.0</td>\n",
       "      <td>0.0</td>\n",
       "      <td>0.0</td>\n",
       "    </tr>\n",
       "  </tbody>\n",
       "</table>\n",
       "<p>5 rows × 399 columns</p>\n",
       "</div>"
      ],
      "text/plain": [
       "   building - industrial  highway - residential  highway - service  \\\n",
       "0                    1.0                    5.0                3.0   \n",
       "1                    0.0                    8.0                4.0   \n",
       "2                    0.0                    4.0                2.0   \n",
       "3                    0.0                    0.0                5.0   \n",
       "4                    0.0                    1.0                3.0   \n",
       "\n",
       "   highway - cycleway  surface - asphalt  power - substation  \\\n",
       "0                 1.0                1.0                 1.0   \n",
       "1                 0.0                1.0                 0.0   \n",
       "2                 0.0                1.0                 1.0   \n",
       "3                 0.0               21.0                 0.0   \n",
       "4                 0.0                4.0                 0.0   \n",
       "\n",
       "   access - private  landuse - industrial  landuse - brownfield  \\\n",
       "0               2.0                   3.0                   2.0   \n",
       "1               0.0                   0.0                   0.0   \n",
       "2               1.0                   0.0                   0.0   \n",
       "3               1.0                   0.0                   0.0   \n",
       "4               0.0                   0.0                   0.0   \n",
       "\n",
       "   landuse - construction  ...  bridge - movable  surface - pebblestone  \\\n",
       "0                     1.0  ...               0.0                    0.0   \n",
       "1                     0.0  ...               0.0                    0.0   \n",
       "2                     0.0  ...               0.0                    0.0   \n",
       "3                     0.0  ...               0.0                    0.0   \n",
       "4                     0.0  ...               0.0                    0.0   \n",
       "\n",
       "   crossing - pedestrian_signals  place - plot  sport - skiing  \\\n",
       "0                            0.0           0.0             0.0   \n",
       "1                            0.0           0.0             0.0   \n",
       "2                            0.0           0.0             0.0   \n",
       "3                            0.0           0.0             0.0   \n",
       "4                            0.0           0.0             0.0   \n",
       "\n",
       "   sidewalk - yes  power - office  surface - sand  parking - street_side  \\\n",
       "0             0.0             0.0             0.0                    0.0   \n",
       "1             0.0             0.0             0.0                    0.0   \n",
       "2             0.0             0.0             0.0                    0.0   \n",
       "3             0.0             0.0             0.0                    0.0   \n",
       "4             0.0             0.0             0.0                    0.0   \n",
       "\n",
       "   sport - ice_hockey;ice_skating  \n",
       "0                             0.0  \n",
       "1                             0.0  \n",
       "2                             0.0  \n",
       "3                             0.0  \n",
       "4                             0.0  \n",
       "\n",
       "[5 rows x 399 columns]"
      ]
     },
     "execution_count": 5,
     "metadata": {},
     "output_type": "execute_result"
    }
   ],
   "source": [
    "df_feat = df.iloc[:, 4:]\n",
    "df_feat.head()"
   ]
  },
  {
   "cell_type": "code",
   "execution_count": 6,
   "id": "9a0a5a1b-1121-4af2-9d5b-4dd82828325c",
   "metadata": {},
   "outputs": [
    {
     "data": {
      "text/plain": [
       "(1050, 399)"
      ]
     },
     "execution_count": 6,
     "metadata": {},
     "output_type": "execute_result"
    }
   ],
   "source": [
    "df_feat.shape"
   ]
  },
  {
   "cell_type": "code",
   "execution_count": 7,
   "id": "76c6b6d2-f699-4a1e-9591-c0e8ca36f29a",
   "metadata": {},
   "outputs": [
    {
     "data": {
      "text/plain": [
       "1050"
      ]
     },
     "execution_count": 7,
     "metadata": {},
     "output_type": "execute_result"
    }
   ],
   "source": [
    "len(df_feat)"
   ]
  },
  {
   "cell_type": "code",
   "execution_count": 8,
   "id": "af0c0313-337a-436c-91ca-f65a8da74f94",
   "metadata": {},
   "outputs": [
    {
     "data": {
      "image/png": "[encoded data removed]",
      "text/plain": [
       "<Figure size 1080x576 with 1 Axes>"
      ]
     },
     "metadata": {
      "needs_background": "light"
     },
     "output_type": "display_data"
    }
   ],
   "source": [
    "plt.figure(figsize=(15,8))\n",
    "((df_feat != 0).sum()/len(df_feat)).sort_values(ascending=False).plot()\n",
    "plt.xticks(ticks=range(0, df_feat.shape[1], 7), labels=df_feat.columns[::7])\n",
    "plt.xticks(rotation=90)\n",
    "plt.xlabel('OpenStreetMap Tags')\n",
    "plt.ylabel('% of Segments Where Tag is Present')\n",
    "plt.savefig('tag_counts.png', bbox_inches='tight')\n",
    "plt.show()"
   ]
  },
  {
   "cell_type": "code",
   "execution_count": 9,
   "id": "49df978e-d6b7-4fe9-956e-b3b4f20348d2",
   "metadata": {},
   "outputs": [],
   "source": [
    "keys = [k[0] for k in df_feat.columns.str.split(' -')]\n",
    "df_keys = df_feat.copy()\n",
    "df_keys.columns = keys"
   ]
  },
  {
   "cell_type": "markdown",
   "id": "23f058ec-a39a-4805-9c63-0087c8e0759d",
   "metadata": {},
   "source": [
    "## How many segments does each key appear in?"
   ]
  },
  {
   "cell_type": "code",
   "execution_count": 10,
   "id": "c6542f97-e3a3-414c-934c-8d6f97831159",
   "metadata": {},
   "outputs": [],
   "source": [
    "key_list = []\n",
    "key_sums = []\n",
    "\n",
    "for k in set(keys):\n",
    "    key_list.append(k)\n",
    "    if type(df_keys[k]) == pd.DataFrame:\n",
    "        key_sum = (df_keys[k].sum(axis=1) != 0).sum()\n",
    "    else:\n",
    "        key_sum =(df_keys[k] != 0).sum()\n",
    "    key_sums.append(key_sum)  "
   ]
  },
  {
   "cell_type": "code",
   "execution_count": 11,
   "id": "2e7891da-f754-4a8b-b2b6-4694a99a5765",
   "metadata": {},
   "outputs": [],
   "source": [
    "key_counts = pd.Series(key_sums, index=key_list)"
   ]
  },
  {
   "cell_type": "code",
   "execution_count": 12,
   "id": "6ab9c79f-afda-4a03-9d2a-dfc731a0b1df",
   "metadata": {},
   "outputs": [
    {
     "data": {
      "text/plain": [
       "highway     1038\n",
       "surface      575\n",
       "oneway       519\n",
       "service      460\n",
       "building     435\n",
       "dtype: int64"
      ]
     },
     "execution_count": 12,
     "metadata": {},
     "output_type": "execute_result"
    }
   ],
   "source": [
    "key_counts.sort_values(ascending=False).head()"
   ]
  },
  {
   "cell_type": "code",
   "execution_count": 13,
   "id": "6ff19bfc-48c5-48cf-95dd-5c63861c2404",
   "metadata": {},
   "outputs": [],
   "source": [
    "# For every key, see if there are any keys where every segment count falls below the threshold"
   ]
  },
  {
   "cell_type": "code",
   "execution_count": 14,
   "id": "398b62f9-7e9d-45da-91c9-77701834b2a4",
   "metadata": {},
   "outputs": [],
   "source": [
    "rare_cutoff = 15"
   ]
  },
  {
   "cell_type": "code",
   "execution_count": 15,
   "id": "4d43c110-6684-4db7-ba03-bac6076673c5",
   "metadata": {},
   "outputs": [],
   "source": [
    "key_check = []\n",
    "\n",
    "for k in set(keys):\n",
    "    if ((df_keys[k] != 0).sum() < rare_cutoff).all():\n",
    "        key_check.append(k)"
   ]
  },
  {
   "cell_type": "code",
   "execution_count": 16,
   "id": "1ce881a6-ded4-4dfa-a45b-82fa14e67607",
   "metadata": {},
   "outputs": [
    {
     "data": {
      "text/plain": [
       "['sport', 'shop', 'wall', 'tracktype']"
      ]
     },
     "execution_count": 16,
     "metadata": {},
     "output_type": "execute_result"
    }
   ],
   "source": [
    "key_check"
   ]
  },
  {
   "cell_type": "markdown",
   "id": "6bf4f606-94b9-43d6-9895-732b53efe121",
   "metadata": {},
   "source": [
    "### Keep it simple: drop tags below cutoff"
   ]
  },
  {
   "cell_type": "code",
   "execution_count": 17,
   "id": "b1eb2393-ac2f-4708-bd7a-f1c0d75a6827",
   "metadata": {},
   "outputs": [],
   "source": [
    "segment_freq = (df_feat != 0).sum().sort_values(ascending=False)"
   ]
  },
  {
   "cell_type": "code",
   "execution_count": 18,
   "id": "2473dedc-9b4d-4d21-8d86-53b9a103259c",
   "metadata": {},
   "outputs": [],
   "source": [
    "segment_freq = segment_freq[segment_freq >= rare_cutoff]"
   ]
  },
  {
   "cell_type": "code",
   "execution_count": 19,
   "id": "bd84b45f-284f-47c9-85b8-417208c5d31b",
   "metadata": {},
   "outputs": [
    {
     "data": {
      "text/plain": [
       "121"
      ]
     },
     "execution_count": 19,
     "metadata": {},
     "output_type": "execute_result"
    }
   ],
   "source": [
    "len(segment_freq)"
   ]
  },
  {
   "cell_type": "code",
   "execution_count": 20,
   "id": "d165bc30-6993-4707-a921-31cac17d3788",
   "metadata": {},
   "outputs": [],
   "source": [
    "to_keep = segment_freq.index"
   ]
  },
  {
   "cell_type": "code",
   "execution_count": 21,
   "id": "7f492580-3ce4-4785-bea0-97fb022c58ef",
   "metadata": {},
   "outputs": [],
   "source": [
    "df_feat = df_feat[to_keep]"
   ]
  },
  {
   "cell_type": "markdown",
   "id": "bc022eec-bb36-479b-a78a-590b694d120c",
   "metadata": {},
   "source": [
    "## Scale the data with Tfidf "
   ]
  },
  {
   "cell_type": "code",
   "execution_count": 22,
   "id": "3104b397-8956-4ff1-b68a-5176ff34d54a",
   "metadata": {},
   "outputs": [],
   "source": [
    "segment_freq = segment_freq.to_dict()"
   ]
  },
  {
   "cell_type": "code",
   "execution_count": 23,
   "id": "38f70bf0-35e4-4692-821b-428545313ad5",
   "metadata": {},
   "outputs": [],
   "source": [
    "# segment_freq"
   ]
  },
  {
   "cell_type": "code",
   "execution_count": 24,
   "id": "5e5fb42e-f3ae-4ae0-afdf-3bc91967c25e",
   "metadata": {},
   "outputs": [],
   "source": [
    "def tf_idf(x):\n",
    "    \n",
    "    def nest_tf(y):\n",
    "        return y\n",
    "    \n",
    "    tag_count = x.apply(nest_tf)\n",
    "    seg_count = segment_freq[x.name]\n",
    "    seg_total = df_feat.shape[0]\n",
    "    \n",
    "    return tag_count * np.log(seg_total/seg_count)\n",
    "#     return tag_count * (seg_total/seg_count)"
   ]
  },
  {
   "cell_type": "code",
   "execution_count": 25,
   "id": "dc15792f-3c2c-4e83-8b1d-e77e1b65874f",
   "metadata": {},
   "outputs": [],
   "source": [
    "tf_df = df_feat.apply(tf_idf)"
   ]
  },
  {
   "cell_type": "code",
   "execution_count": 26,
   "id": "3ba0d680-e7e9-4bc9-8c88-0072cd2e2d91",
   "metadata": {},
   "outputs": [
    {
     "data": {
      "text/html": [
       "<div>\n",
       "<style scoped>\n",
       "    .dataframe tbody tr th:only-of-type {\n",
       "        vertical-align: middle;\n",
       "    }\n",
       "\n",
       "    .dataframe tbody tr th {\n",
       "        vertical-align: top;\n",
       "    }\n",
       "\n",
       "    .dataframe thead th {\n",
       "        text-align: right;\n",
       "    }\n",
       "</style>\n",
       "<table border=\"1\" class=\"dataframe\">\n",
       "  <thead>\n",
       "    <tr style=\"text-align: right;\">\n",
       "      <th></th>\n",
       "      <th>highway - residential</th>\n",
       "      <th>highway - service</th>\n",
       "      <th>highway - footway</th>\n",
       "      <th>oneway - yes</th>\n",
       "      <th>surface - asphalt</th>\n",
       "      <th>highway - tertiary</th>\n",
       "      <th>building - yes</th>\n",
       "      <th>footway - sidewalk</th>\n",
       "      <th>service - driveway</th>\n",
       "      <th>highway - crossing</th>\n",
       "      <th>...</th>\n",
       "      <th>service - yard</th>\n",
       "      <th>waterway - canal</th>\n",
       "      <th>amenity - shelter</th>\n",
       "      <th>highway - tertiary_link</th>\n",
       "      <th>leaf_cycle - deciduous</th>\n",
       "      <th>foot - permissive</th>\n",
       "      <th>natural - scrub</th>\n",
       "      <th>service - spur</th>\n",
       "      <th>barrier - bollard</th>\n",
       "      <th>landuse - forest</th>\n",
       "    </tr>\n",
       "  </thead>\n",
       "  <tbody>\n",
       "    <tr>\n",
       "      <th>0</th>\n",
       "      <td>1.769788</td>\n",
       "      <td>1.383840</td>\n",
       "      <td>0.000000</td>\n",
       "      <td>0.000000</td>\n",
       "      <td>1.008510</td>\n",
       "      <td>0.000000</td>\n",
       "      <td>0.000000</td>\n",
       "      <td>0.000000</td>\n",
       "      <td>0.0</td>\n",
       "      <td>0.000000</td>\n",
       "      <td>...</td>\n",
       "      <td>0.0</td>\n",
       "      <td>0.0</td>\n",
       "      <td>0.0</td>\n",
       "      <td>0.0</td>\n",
       "      <td>0.0</td>\n",
       "      <td>0.0</td>\n",
       "      <td>0.0</td>\n",
       "      <td>0.0</td>\n",
       "      <td>0.0</td>\n",
       "      <td>0.0</td>\n",
       "    </tr>\n",
       "    <tr>\n",
       "      <th>1</th>\n",
       "      <td>2.831660</td>\n",
       "      <td>1.845120</td>\n",
       "      <td>10.114359</td>\n",
       "      <td>6.814018</td>\n",
       "      <td>1.008510</td>\n",
       "      <td>0.000000</td>\n",
       "      <td>7.377385</td>\n",
       "      <td>3.798558</td>\n",
       "      <td>0.0</td>\n",
       "      <td>0.000000</td>\n",
       "      <td>...</td>\n",
       "      <td>0.0</td>\n",
       "      <td>0.0</td>\n",
       "      <td>0.0</td>\n",
       "      <td>0.0</td>\n",
       "      <td>0.0</td>\n",
       "      <td>0.0</td>\n",
       "      <td>0.0</td>\n",
       "      <td>0.0</td>\n",
       "      <td>0.0</td>\n",
       "      <td>0.0</td>\n",
       "    </tr>\n",
       "    <tr>\n",
       "      <th>2</th>\n",
       "      <td>1.415830</td>\n",
       "      <td>0.922560</td>\n",
       "      <td>0.000000</td>\n",
       "      <td>3.407009</td>\n",
       "      <td>1.008510</td>\n",
       "      <td>0.000000</td>\n",
       "      <td>1.053912</td>\n",
       "      <td>0.000000</td>\n",
       "      <td>0.0</td>\n",
       "      <td>0.000000</td>\n",
       "      <td>...</td>\n",
       "      <td>0.0</td>\n",
       "      <td>0.0</td>\n",
       "      <td>0.0</td>\n",
       "      <td>0.0</td>\n",
       "      <td>0.0</td>\n",
       "      <td>0.0</td>\n",
       "      <td>0.0</td>\n",
       "      <td>0.0</td>\n",
       "      <td>0.0</td>\n",
       "      <td>0.0</td>\n",
       "    </tr>\n",
       "    <tr>\n",
       "      <th>3</th>\n",
       "      <td>0.000000</td>\n",
       "      <td>2.306399</td>\n",
       "      <td>16.014402</td>\n",
       "      <td>11.924531</td>\n",
       "      <td>21.178720</td>\n",
       "      <td>0.000000</td>\n",
       "      <td>1.053912</td>\n",
       "      <td>12.661860</td>\n",
       "      <td>0.0</td>\n",
       "      <td>12.772901</td>\n",
       "      <td>...</td>\n",
       "      <td>0.0</td>\n",
       "      <td>0.0</td>\n",
       "      <td>0.0</td>\n",
       "      <td>0.0</td>\n",
       "      <td>0.0</td>\n",
       "      <td>0.0</td>\n",
       "      <td>0.0</td>\n",
       "      <td>0.0</td>\n",
       "      <td>0.0</td>\n",
       "      <td>0.0</td>\n",
       "    </tr>\n",
       "    <tr>\n",
       "      <th>4</th>\n",
       "      <td>0.353958</td>\n",
       "      <td>1.383840</td>\n",
       "      <td>0.842863</td>\n",
       "      <td>3.407009</td>\n",
       "      <td>4.034042</td>\n",
       "      <td>2.064579</td>\n",
       "      <td>3.161736</td>\n",
       "      <td>1.266186</td>\n",
       "      <td>0.0</td>\n",
       "      <td>0.000000</td>\n",
       "      <td>...</td>\n",
       "      <td>0.0</td>\n",
       "      <td>0.0</td>\n",
       "      <td>0.0</td>\n",
       "      <td>0.0</td>\n",
       "      <td>0.0</td>\n",
       "      <td>0.0</td>\n",
       "      <td>0.0</td>\n",
       "      <td>0.0</td>\n",
       "      <td>0.0</td>\n",
       "      <td>0.0</td>\n",
       "    </tr>\n",
       "  </tbody>\n",
       "</table>\n",
       "<p>5 rows × 121 columns</p>\n",
       "</div>"
      ],
      "text/plain": [
       "   highway - residential  highway - service  highway - footway  oneway - yes  \\\n",
       "0               1.769788           1.383840           0.000000      0.000000   \n",
       "1               2.831660           1.845120          10.114359      6.814018   \n",
       "2               1.415830           0.922560           0.000000      3.407009   \n",
       "3               0.000000           2.306399          16.014402     11.924531   \n",
       "4               0.353958           1.383840           0.842863      3.407009   \n",
       "\n",
       "   surface - asphalt  highway - tertiary  building - yes  footway - sidewalk  \\\n",
       "0           1.008510            0.000000        0.000000            0.000000   \n",
       "1           1.008510            0.000000        7.377385            3.798558   \n",
       "2           1.008510            0.000000        1.053912            0.000000   \n",
       "3          21.178720            0.000000        1.053912           12.661860   \n",
       "4           4.034042            2.064579        3.161736            1.266186   \n",
       "\n",
       "   service - driveway  highway - crossing  ...  service - yard  \\\n",
       "0                 0.0            0.000000  ...             0.0   \n",
       "1                 0.0            0.000000  ...             0.0   \n",
       "2                 0.0            0.000000  ...             0.0   \n",
       "3                 0.0           12.772901  ...             0.0   \n",
       "4                 0.0            0.000000  ...             0.0   \n",
       "\n",
       "   waterway - canal  amenity - shelter  highway - tertiary_link  \\\n",
       "0               0.0                0.0                      0.0   \n",
       "1               0.0                0.0                      0.0   \n",
       "2               0.0                0.0                      0.0   \n",
       "3               0.0                0.0                      0.0   \n",
       "4               0.0                0.0                      0.0   \n",
       "\n",
       "   leaf_cycle - deciduous  foot - permissive  natural - scrub  service - spur  \\\n",
       "0                     0.0                0.0              0.0             0.0   \n",
       "1                     0.0                0.0              0.0             0.0   \n",
       "2                     0.0                0.0              0.0             0.0   \n",
       "3                     0.0                0.0              0.0             0.0   \n",
       "4                     0.0                0.0              0.0             0.0   \n",
       "\n",
       "   barrier - bollard  landuse - forest  \n",
       "0                0.0               0.0  \n",
       "1                0.0               0.0  \n",
       "2                0.0               0.0  \n",
       "3                0.0               0.0  \n",
       "4                0.0               0.0  \n",
       "\n",
       "[5 rows x 121 columns]"
      ]
     },
     "execution_count": 26,
     "metadata": {},
     "output_type": "execute_result"
    }
   ],
   "source": [
    "tf_df.head()"
   ]
  },
  {
   "cell_type": "code",
   "execution_count": 27,
   "id": "d564a6c7-39b3-4f32-a63e-452a8b4286cc",
   "metadata": {},
   "outputs": [],
   "source": [
    "tf_df.columns.to_series(index=range(len(df_feat.columns))).to_csv('feature_list.csv')"
   ]
  },
  {
   "cell_type": "code",
   "execution_count": 28,
   "id": "6d04903b-ab20-4bf8-9bc1-bd7df53c2407",
   "metadata": {},
   "outputs": [],
   "source": [
    "# (tf_df == 0).sum().sort_values()"
   ]
  },
  {
   "cell_type": "code",
   "execution_count": 29,
   "id": "3cee4e28-ed98-4e62-ac88-9844cf878332",
   "metadata": {},
   "outputs": [],
   "source": [
    "# Show which features contain deflated values"
   ]
  },
  {
   "cell_type": "code",
   "execution_count": 30,
   "id": "9bb25514-69e2-40c1-ac63-ba7d613fcb98",
   "metadata": {},
   "outputs": [
    {
     "data": {
      "text/plain": [
       "highway - residential    False\n",
       "highway - service        False\n",
       "highway - footway        False\n",
       "oneway - yes             False\n",
       "surface - asphalt         True\n",
       "highway - tertiary        True\n",
       "building - yes            True\n",
       "footway - sidewalk        True\n",
       "service - driveway        True\n",
       "highway - crossing        True\n",
       "dtype: bool"
      ]
     },
     "execution_count": 30,
     "metadata": {},
     "output_type": "execute_result"
    }
   ],
   "source": [
    "(tf_df >= df_feat).all().head(10)"
   ]
  },
  {
   "cell_type": "code",
   "execution_count": 31,
   "id": "e61926d9-53b1-4991-a972-84c3e4ef8b34",
   "metadata": {},
   "outputs": [
    {
     "data": {
      "text/plain": [
       "natural - tree                237.094833\n",
       "building - yes                186.542443\n",
       "crossing - traffic_signals    179.175212\n",
       "amenity - bench               157.926983\n",
       "highway - street_lamp         136.411300\n",
       "dtype: float64"
      ]
     },
     "execution_count": 31,
     "metadata": {},
     "output_type": "execute_result"
    }
   ],
   "source": [
    "tf_df.max().sort_values(ascending=False).head()"
   ]
  },
  {
   "cell_type": "code",
   "execution_count": 32,
   "id": "86e63872-ddf1-493d-9b5e-9f6d53fb956b",
   "metadata": {},
   "outputs": [],
   "source": [
    "comp_df = pd.DataFrame({'Before tf-idf': df_feat.max(axis=0),\n",
    "                        'After tf-idf': round(tf_df.max(axis=0), 1)})"
   ]
  },
  {
   "cell_type": "code",
   "execution_count": 33,
   "id": "5a9ae6e9-9f8c-4d36-b789-75736b16178e",
   "metadata": {},
   "outputs": [
    {
     "data": {
      "text/html": [
       "<div>\n",
       "<style scoped>\n",
       "    .dataframe tbody tr th:only-of-type {\n",
       "        vertical-align: middle;\n",
       "    }\n",
       "\n",
       "    .dataframe tbody tr th {\n",
       "        vertical-align: top;\n",
       "    }\n",
       "\n",
       "    .dataframe thead th {\n",
       "        text-align: right;\n",
       "    }\n",
       "</style>\n",
       "<table border=\"1\" class=\"dataframe\">\n",
       "  <thead>\n",
       "    <tr style=\"text-align: right;\">\n",
       "      <th></th>\n",
       "      <th>Before tf-idf</th>\n",
       "      <th>After tf-idf</th>\n",
       "    </tr>\n",
       "  </thead>\n",
       "  <tbody>\n",
       "    <tr>\n",
       "      <th>oneway - yes</th>\n",
       "      <td>30.0</td>\n",
       "      <td>25.6</td>\n",
       "    </tr>\n",
       "    <tr>\n",
       "      <th>surface - asphalt</th>\n",
       "      <td>24.0</td>\n",
       "      <td>24.2</td>\n",
       "    </tr>\n",
       "    <tr>\n",
       "      <th>highway - tertiary</th>\n",
       "      <td>18.0</td>\n",
       "      <td>18.6</td>\n",
       "    </tr>\n",
       "    <tr>\n",
       "      <th>building - yes</th>\n",
       "      <td>177.0</td>\n",
       "      <td>186.5</td>\n",
       "    </tr>\n",
       "    <tr>\n",
       "      <th>footway - sidewalk</th>\n",
       "      <td>50.0</td>\n",
       "      <td>63.3</td>\n",
       "    </tr>\n",
       "  </tbody>\n",
       "</table>\n",
       "</div>"
      ],
      "text/plain": [
       "                    Before tf-idf  After tf-idf\n",
       "oneway - yes                 30.0          25.6\n",
       "surface - asphalt            24.0          24.2\n",
       "highway - tertiary           18.0          18.6\n",
       "building - yes              177.0         186.5\n",
       "footway - sidewalk           50.0          63.3"
      ]
     },
     "execution_count": 33,
     "metadata": {},
     "output_type": "execute_result"
    }
   ],
   "source": [
    "comp_df[3:8]"
   ]
  },
  {
   "cell_type": "code",
   "execution_count": 34,
   "id": "80d78f3a-1064-4744-9999-48399d2a81f2",
   "metadata": {},
   "outputs": [],
   "source": [
    "comp_df[3:8].to_csv('tf-idf_comp.csv')"
   ]
  },
  {
   "cell_type": "code",
   "execution_count": 35,
   "id": "def7dc09-eab1-4a50-a05b-0cedca6a7674",
   "metadata": {},
   "outputs": [],
   "source": [
    "tf_df.to_csv('tf_df.csv')"
   ]
  }
 ],
 "metadata": {
  "kernelspec": {
   "display_name": "Python 3 (ipykernel)",
   "language": "python",
   "name": "python3"
  },
  "language_info": {
   "codemirror_mode": {
    "name": "ipython",
    "version": 3
   },
   "file_extension": ".py",
   "mimetype": "text/x-python",
   "name": "python",
   "nbconvert_exporter": "python",
   "pygments_lexer": "ipython3",
   "version": "3.8.8"
  }
 },
 "nbformat": 4,
 "nbformat_minor": 5
}
